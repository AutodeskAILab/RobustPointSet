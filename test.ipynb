{
 "cells": [
  {
   "cell_type": "code",
   "execution_count": 1,
   "metadata": {},
   "outputs": [],
   "source": [
    "import os\n",
    "import sys\n",
    "import torch\n",
    "import argparse\n",
    "import importlib\n",
    "import numpy as np\n",
    "from tqdm import tqdm\n",
    "import multiprocessing\n",
    "from pathlib import Path\n",
    "from torch.optim.lr_scheduler import CosineAnnealingLR\n",
    "\n",
    "sys.path.append(\"..\")\n",
    "from data_utils.ModelNetDataLoader import ModelNetDataLoader\n",
    "from data_utils import provider\n",
    "\n",
    "BASE_DIR = os.path.dirname(os.path.abspath('__file__'))\n",
    "ROOT_DIR = BASE_DIR\n",
    "sys.path.append(os.path.join(ROOT_DIR, 'models'))\n",
    "sys.path.append(os.path.join(ROOT_DIR, 'log'))"
   ]
  },
  {
   "cell_type": "markdown",
   "metadata": {},
   "source": [
    "# Functions"
   ]
  },
  {
   "cell_type": "code",
   "execution_count": 2,
   "metadata": {},
   "outputs": [],
   "source": [
    "def test(model, loader, num_class=40, vote_num=1):\n",
    "    \n",
    "    mean_correct = []\n",
    "    class_acc = np.zeros((num_class,3))\n",
    "    for j, data in tqdm(enumerate(loader), total=len(loader)):\n",
    "        points, target = data\n",
    "        target = target[:, 0]\n",
    "        points = points.transpose(2, 1)\n",
    "        points, target = points.cuda(), target.cuda()\n",
    "        classifier = model.eval()\n",
    "        vote_pool = torch.zeros(target.size()[0],num_class).cuda()\n",
    "        for _ in range(vote_num):\n",
    "            pred, _ = classifier(points.float())\n",
    "            vote_pool += pred\n",
    "        pred = vote_pool/vote_num\n",
    "        pred_choice = pred.data.max(1)[1]\n",
    "        for cat in np.unique(target.cpu()):\n",
    "            cat = int(cat)\n",
    "            classacc = pred_choice[target==cat].eq(target[target==cat].long().data).cpu().sum()\n",
    "            class_acc[cat,0]+= classacc.item()/float(points[target==cat].size()[0])\n",
    "            class_acc[cat,1]+=1\n",
    "        correct = pred_choice.eq(target.long().data).cpu().sum()\n",
    "        mean_correct.append(correct.item()/float(points.size()[0]))\n",
    "    class_acc[:,2] =  class_acc[:,0]/ class_acc[:,1]\n",
    "    class_acc = np.mean(class_acc[:,2])\n",
    "    instance_acc = np.mean(mean_correct)\n",
    "    return instance_acc, class_acc\n",
    "\n",
    "\n",
    "def main(args):\n",
    "    def log_string(str):\n",
    "        logger.info(str)\n",
    "        print(str)\n",
    "\n",
    "    '''HYPER PARAMETER'''\n",
    "    os.environ[\"CUDA_VISIBLE_DEVICES\"] = args.gpu\n",
    "    torch.backends.cudnn.enabled = False\n",
    "    \n",
    "    '''DATA LOADING'''\n",
    "    TEST_DATASET = ModelNetDataLoader(root=args.data_root, \n",
    "                                       tasks=args.test_tasks,\n",
    "                                       labels=args.test_labels,\n",
    "                                       partition='test',\n",
    "                                       npoint=args.num_point,      \n",
    "                                       normal_channel=args.normal)\n",
    "    testDataLoader = torch.utils.data.DataLoader(TEST_DATASET, batch_size=args.batch_size, shuffle=False, num_workers=2)\n",
    "\n",
    "    '''MODEL LOADING'''\n",
    "    num_class = 40\n",
    "    files = os.listdir(args.model_dir+'/logs')\n",
    "    for f in files:\n",
    "        if f.endswith('txt'):\n",
    "            model_name = f.split('.')[0]\n",
    "\n",
    "    MODEL = importlib.import_module(model_name)\n",
    "\n",
    "    classifier = MODEL.get_model(num_class,normal_channel=args.normal).cuda()\n",
    "    checkpoint = torch.load(str(args.model_dir) + '/checkpoints/best_model.pth')\n",
    "    classifier.load_state_dict(checkpoint['model_state_dict'])\n",
    "\n",
    "    with torch.no_grad():\n",
    "        instance_acc, class_acc = test(classifier.eval(), testDataLoader, vote_num=args.num_votes)\n",
    "        print('Test Instance Accuracy: %f, Class Accuracy: %f' % (instance_acc, class_acc))"
   ]
  },
  {
   "cell_type": "code",
   "execution_count": 4,
   "metadata": {},
   "outputs": [],
   "source": [
    "class Args:\n",
    "    batch_size = 32 \n",
    "    model ='pointnet_cls'  \n",
    "    ults = 'pointnet_util' \n",
    "    gpu = '0' \n",
    "    num_point = 2048\n",
    "    optimizer = 'Adam'\n",
    "    log_dir = None\n",
    "    data_root = 'data/'\n",
    "    normal = False # wheather to use normal\n",
    "    num_votes = 1   \n",
    "    \n",
    "    # available data: original, jitter, translate, missing_part, sparse, rotation, occlusion\n",
    "    \n",
    "    # An example for Strategy 1: training-domain validation\n",
    "    test_tasks = ['test_jitter.npy']                      # define which data you want to test on\n",
    "    test_labels = ['test_labels.npy']*len(test_tasks)\n",
    "    model_dir = 'log/classification/2021-02-16_23-09-pointnet_cls-s1' # model checkpoint\n",
    "    \n",
    "    "
   ]
  },
  {
   "cell_type": "code",
   "execution_count": 5,
   "metadata": {},
   "outputs": [
    {
     "name": "stdout",
     "output_type": "stream",
     "text": [
      "The number of test data: 2468\n"
     ]
    },
    {
     "name": "stderr",
     "output_type": "stream",
     "text": [
      "100%|██████████| 78/78 [00:02<00:00, 34.72it/s]"
     ]
    },
    {
     "name": "stdout",
     "output_type": "stream",
     "text": [
      "Test Instance Accuracy: 0.873798, Class Accuracy: 0.836477\n"
     ]
    },
    {
     "name": "stderr",
     "output_type": "stream",
     "text": [
      "\n"
     ]
    }
   ],
   "source": [
    "if __name__ == '__main__':\n",
    "    args = Args()\n",
    "    main(args) "
   ]
  },
  {
   "cell_type": "code",
   "execution_count": null,
   "metadata": {},
   "outputs": [],
   "source": []
  }
 ],
 "metadata": {
  "kernelspec": {
   "display_name": "Python 3",
   "language": "python",
   "name": "python3"
  },
  "language_info": {
   "codemirror_mode": {
    "name": "ipython",
    "version": 3
   },
   "file_extension": ".py",
   "mimetype": "text/x-python",
   "name": "python",
   "nbconvert_exporter": "python",
   "pygments_lexer": "ipython3",
   "version": "3.6.8"
  }
 },
 "nbformat": 4,
 "nbformat_minor": 4
}
